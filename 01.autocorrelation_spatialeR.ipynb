{
 "cells": [
  {
   "cell_type": "markdown",
   "metadata": {},
   "source": [
    "# Autocorrélation spatiale\n",
    "Reproduction avec R l'essentiel d'une analyse menée avec Geoda."
   ]
  },
  {
   "cell_type": "markdown",
   "metadata": {},
   "source": [
    "-/-/- - Author: Abdoulaye DIALLO  \n",
    "-/-/- - École: ENSAI  \n",
    "-/-/- - Cours: Spatial Data  "
   ]
  },
  {
   "cell_type": "markdown",
   "metadata": {},
   "source": [
    "### Sources et Références\n",
    "[Spatial Econometrics housing-prices](https://rpubs.com/eosowska/housing-prices)"
   ]
  },
  {
   "cell_type": "code",
   "execution_count": null,
   "metadata": {},
   "outputs": [],
   "source": []
  }
 ],
 "metadata": {
  "kernelspec": {
   "display_name": "R",
   "language": "R",
   "name": "ir"
  },
  "language_info": {
   "codemirror_mode": "r",
   "file_extension": ".r",
   "mimetype": "text/x-r-source",
   "name": "R",
   "pygments_lexer": "r",
   "version": "4.0.3"
  }
 },
 "nbformat": 4,
 "nbformat_minor": 4
}
