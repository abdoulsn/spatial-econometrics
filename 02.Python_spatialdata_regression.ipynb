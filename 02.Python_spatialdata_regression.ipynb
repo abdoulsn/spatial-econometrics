{
 "cells": [
  {
   "cell_type": "markdown",
   "id": "ethical-vampire",
   "metadata": {},
   "source": [
    "### Refs\n",
    "https://methods.sagepub.com/dataset/howtoguide/geographically-weighted-regression-berlin-districts-2018-python"
   ]
  },
  {
   "cell_type": "code",
   "execution_count": 4,
   "id": "tight-shell",
   "metadata": {},
   "outputs": [
    {
     "data": {
      "text/plain": [
       "'u'"
      ]
     },
     "execution_count": 4,
     "metadata": {},
     "output_type": "execute_result"
    }
   ],
   "source": [
    "A = \"YYZ uu\"\n",
    "A[-1:]"
   ]
  },
  {
   "cell_type": "code",
   "execution_count": 6,
   "id": "rural-monroe",
   "metadata": {},
   "outputs": [
    {
     "data": {
      "text/plain": [
       "'YYZ ii'"
      ]
     },
     "execution_count": 6,
     "metadata": {},
     "output_type": "execute_result"
    }
   ],
   "source": [
    "A.replace(\"uu\", 'ii')"
   ]
  },
  {
   "cell_type": "code",
   "execution_count": 10,
   "id": "placed-mainland",
   "metadata": {},
   "outputs": [
    {
     "data": {
      "text/plain": [
       "['2,5', '58']"
      ]
     },
     "execution_count": 10,
     "metadata": {},
     "output_type": "execute_result"
    }
   ],
   "source": [
    "a = [\"2,5\", '58']\n",
    "a"
   ]
  },
  {
   "cell_type": "code",
   "execution_count": 13,
   "id": "basic-malawi",
   "metadata": {},
   "outputs": [],
   "source": [
    "aa = a.reverse()\n",
    "aa"
   ]
  },
  {
   "cell_type": "code",
   "execution_count": 14,
   "id": "established-network",
   "metadata": {},
   "outputs": [
    {
     "ename": "TypeError",
     "evalue": "can only concatenate list (not \"tuple\") to list",
     "output_type": "error",
     "traceback": [
      "\u001b[0;31m---------------------------------------------------------------------------\u001b[0m",
      "\u001b[0;31mTypeError\u001b[0m                                 Traceback (most recent call last)",
      "\u001b[0;32m<ipython-input-14-a28204e009de>\u001b[0m in \u001b[0;36m<module>\u001b[0;34m\u001b[0m\n\u001b[0;32m----> 1\u001b[0;31m \u001b[0;34m(\u001b[0m\u001b[0;34m[\u001b[0m\u001b[0;36m2\u001b[0m\u001b[0;34m,\u001b[0m\u001b[0;36m4\u001b[0m\u001b[0;34m]\u001b[0m \u001b[0;34m+\u001b[0m\u001b[0;34m(\u001b[0m\u001b[0;36m8\u001b[0m\u001b[0;34m,\u001b[0m\u001b[0;36m2\u001b[0m\u001b[0;34m)\u001b[0m\u001b[0;34m)\u001b[0m\u001b[0;34m\u001b[0m\u001b[0;34m\u001b[0m\u001b[0m\n\u001b[0m",
      "\u001b[0;31mTypeError\u001b[0m: can only concatenate list (not \"tuple\") to list"
     ]
    }
   ],
   "source": [
    "([2,4] +(8,2))"
   ]
  },
  {
   "cell_type": "code",
   "execution_count": 15,
   "id": "dated-honey",
   "metadata": {},
   "outputs": [
    {
     "data": {
      "text/plain": [
       "2.5"
      ]
     },
     "execution_count": 15,
     "metadata": {},
     "output_type": "execute_result"
    }
   ],
   "source": [
    "5/2"
   ]
  },
  {
   "cell_type": "code",
   "execution_count": 16,
   "id": "infrared-treasurer",
   "metadata": {},
   "outputs": [],
   "source": [
    "def fuc(a,b,c,*args):\n",
    "    print(a,b,c,args)\n",
    "    "
   ]
  },
  {
   "cell_type": "code",
   "execution_count": 17,
   "id": "latter-accuracy",
   "metadata": {},
   "outputs": [
    {
     "name": "stdout",
     "output_type": "stream",
     "text": [
      "1 2 3 (4, 5)\n"
     ]
    }
   ],
   "source": [
    "fuc(1,2,3,4,5)"
   ]
  },
  {
   "cell_type": "code",
   "execution_count": 21,
   "id": "sound-license",
   "metadata": {},
   "outputs": [
    {
     "name": "stdout",
     "output_type": "stream",
     "text": [
      "<class 'str'>\n"
     ]
    }
   ],
   "source": [
    "v = u'ip'\n",
    "print(type(v))"
   ]
  },
  {
   "cell_type": "code",
   "execution_count": 22,
   "id": "nasty-lender",
   "metadata": {},
   "outputs": [],
   "source": [
    "dic = {\"a\": 3, \"b\":4}"
   ]
  },
  {
   "cell_type": "code",
   "execution_count": 23,
   "id": "controlling-audience",
   "metadata": {},
   "outputs": [],
   "source": [
    "dic.update({\"c\":55})"
   ]
  },
  {
   "cell_type": "code",
   "execution_count": 24,
   "id": "terminal-atmosphere",
   "metadata": {},
   "outputs": [
    {
     "data": {
      "text/plain": [
       "{'a': 3, 'b': 4, 'c': 55}"
      ]
     },
     "execution_count": 24,
     "metadata": {},
     "output_type": "execute_result"
    }
   ],
   "source": [
    "dic"
   ]
  },
  {
   "cell_type": "code",
   "execution_count": 25,
   "id": "eight-calcium",
   "metadata": {},
   "outputs": [
    {
     "ename": "TypeError",
     "evalue": "unsupported operand type(s) for +: 'dict' and 'dict'",
     "output_type": "error",
     "traceback": [
      "\u001b[0;31m---------------------------------------------------------------------------\u001b[0m",
      "\u001b[0;31mTypeError\u001b[0m                                 Traceback (most recent call last)",
      "\u001b[0;32m<ipython-input-25-d32fca36f53c>\u001b[0m in \u001b[0;36m<module>\u001b[0;34m\u001b[0m\n\u001b[0;32m----> 1\u001b[0;31m \u001b[0mdic\u001b[0m\u001b[0;34m+\u001b[0m \u001b[0;34m{\u001b[0m\u001b[0;34m\"cc\"\u001b[0m\u001b[0;34m:\u001b[0m\u001b[0;36m88\u001b[0m\u001b[0;34m}\u001b[0m\u001b[0;34m\u001b[0m\u001b[0;34m\u001b[0m\u001b[0m\n\u001b[0m",
      "\u001b[0;31mTypeError\u001b[0m: unsupported operand type(s) for +: 'dict' and 'dict'"
     ]
    }
   ],
   "source": [
    "dic+ {\"cc\":88}"
   ]
  },
  {
   "cell_type": "code",
   "execution_count": null,
   "id": "armed-picking",
   "metadata": {},
   "outputs": [],
   "source": []
  }
 ],
 "metadata": {
  "kernelspec": {
   "display_name": "Python 3",
   "language": "python",
   "name": "python3"
  },
  "language_info": {
   "codemirror_mode": {
    "name": "ipython",
    "version": 3
   },
   "file_extension": ".py",
   "mimetype": "text/x-python",
   "name": "python",
   "nbconvert_exporter": "python",
   "pygments_lexer": "ipython3",
   "version": "3.8.1"
  },
  "widgets": {
   "application/vnd.jupyter.widget-state+json": {
    "state": {},
    "version_major": 2,
    "version_minor": 0
   }
  }
 },
 "nbformat": 4,
 "nbformat_minor": 5
}
