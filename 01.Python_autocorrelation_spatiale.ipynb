{
 "cells": [
  {
   "cell_type": "markdown",
   "metadata": {},
   "source": [
    "# Autocorrélation spatiale\n",
    "Reproduction avec R l'essentiel d'une analyse menée avec Geoda."
   ]
  },
  {
   "cell_type": "markdown",
   "metadata": {},
   "source": [
    "-/-/- - Author: Abdoulaye DIALLO  \n",
    "-/-/- - École: ENSAI  \n",
    "-/-/- - Cours: Spatial Data  "
   ]
  },
  {
   "cell_type": "markdown",
   "metadata": {},
   "source": [
    "#### Sources et Références\n",
    "#### [Geospatial Data Analysis | SciPy 2018 | Serge Rey](https://www.youtube.com/watch?v=kJXUUO5M4ok)  \n",
    "#### [--](--)\n",
    "#### [--](--)  "
   ]
  },
  {
   "cell_type": "markdown",
   "metadata": {},
   "source": [
    "----------------------------"
   ]
  },
  {
   "cell_type": "markdown",
   "metadata": {},
   "source": [
    "La première loi de la géographie de **Waldo Tober**: `tout est lié à tout le reste, mais les choses proches sont plus liées que les choses lointaine`."
   ]
  },
  {
   "cell_type": "markdown",
   "metadata": {},
   "source": [
    "----------------------------"
   ]
  },
  {
   "cell_type": "code",
   "execution_count": 1,
   "metadata": {},
   "outputs": [
    {
     "name": "stderr",
     "output_type": "stream",
     "text": [
      "/Library/Frameworks/Python.framework/Versions/3.8/lib/python3.8/site-packages/geopandas/_compat.py:106: UserWarning: The Shapely GEOS version (3.8.0-CAPI-1.13.1 ) is incompatible with the GEOS version PyGEOS was compiled with (3.9.0-CAPI-1.16.2). Conversions between both will be slow.\n",
      "  warnings.warn(\n"
     ]
    }
   ],
   "source": [
    "import geopandas as gpd\n",
    "import pandas as pd\n",
    "import matplotlib.pyplot as plt\n",
    "from shapely.geometry import Point\n",
    "\n",
    "import seaborn as sns"
   ]
  },
  {
   "cell_type": "markdown",
   "metadata": {},
   "source": [
    "## Les donnnées"
   ]
  },
  {
   "cell_type": "markdown",
   "metadata": {},
   "source": [
    "#### chargement des données non spatial"
   ]
  },
  {
   "cell_type": "code",
   "execution_count": 4,
   "metadata": {},
   "outputs": [
    {
     "name": "stdout",
     "output_type": "stream",
     "text": [
      "epsg:3857\n"
     ]
    }
   ],
   "source": [
    "# Chargeons les données non spatial à fusionée avec les données spati\n",
    "medianhousing = gpd.read_file(\"medianhousing/medianhousing.shp\")\n",
    "print(medianhousing.crs)"
   ]
  },
  {
   "cell_type": "code",
   "execution_count": 5,
   "metadata": {},
   "outputs": [
    {
     "data": {
      "text/html": [
       "<div>\n",
       "<style scoped>\n",
       "    .dataframe tbody tr th:only-of-type {\n",
       "        vertical-align: middle;\n",
       "    }\n",
       "\n",
       "    .dataframe tbody tr th {\n",
       "        vertical-align: top;\n",
       "    }\n",
       "\n",
       "    .dataframe thead th {\n",
       "        text-align: right;\n",
       "    }\n",
       "</style>\n",
       "<table border=\"1\" class=\"dataframe\">\n",
       "  <thead>\n",
       "    <tr style=\"text-align: right;\">\n",
       "      <th></th>\n",
       "      <th>POLY_ID</th>\n",
       "      <th>GEO_ID</th>\n",
       "      <th>STATE</th>\n",
       "      <th>COUNTY</th>\n",
       "      <th>TRACT</th>\n",
       "      <th>NAME</th>\n",
       "      <th>LSAD</th>\n",
       "      <th>SHAPE_AREA</th>\n",
       "      <th>SHAPE_LEN</th>\n",
       "      <th>Id</th>\n",
       "      <th>Id2</th>\n",
       "      <th>Geography</th>\n",
       "      <th>Median_val</th>\n",
       "      <th>Median_v_1</th>\n",
       "      <th>geometry</th>\n",
       "    </tr>\n",
       "  </thead>\n",
       "  <tbody>\n",
       "    <tr>\n",
       "      <th>0</th>\n",
       "      <td>1</td>\n",
       "      <td>1400000US25017300100</td>\n",
       "      <td>25</td>\n",
       "      <td>017</td>\n",
       "      <td>300100</td>\n",
       "      <td>3001</td>\n",
       "      <td>Tract</td>\n",
       "      <td>1.153484e+08</td>\n",
       "      <td>48105.939998</td>\n",
       "      <td>1400000US25017300100</td>\n",
       "      <td>2.501730e+10</td>\n",
       "      <td>Census Tract 3001, Middlesex County, Massachus...</td>\n",
       "      <td>286700.0</td>\n",
       "      <td>15865.0</td>\n",
       "      <td>POLYGON ((-7989680.091 5267632.891, -7989885.5...</td>\n",
       "    </tr>\n",
       "    <tr>\n",
       "      <th>1</th>\n",
       "      <td>2</td>\n",
       "      <td>1400000US25017301101</td>\n",
       "      <td>25</td>\n",
       "      <td>017</td>\n",
       "      <td>301101</td>\n",
       "      <td>3011.01</td>\n",
       "      <td>Tract</td>\n",
       "      <td>8.252731e+07</td>\n",
       "      <td>41749.428647</td>\n",
       "      <td>1400000US25017301101</td>\n",
       "      <td>2.501730e+10</td>\n",
       "      <td>Census Tract 3011.01, Middlesex County, Massac...</td>\n",
       "      <td>290800.0</td>\n",
       "      <td>14919.0</td>\n",
       "      <td>POLYGON ((-7989680.091 5267632.891, -7989536.8...</td>\n",
       "    </tr>\n",
       "  </tbody>\n",
       "</table>\n",
       "</div>"
      ],
      "text/plain": [
       "   POLY_ID                GEO_ID STATE COUNTY   TRACT     NAME   LSAD  \\\n",
       "0        1  1400000US25017300100    25    017  300100     3001  Tract   \n",
       "1        2  1400000US25017301101    25    017  301101  3011.01  Tract   \n",
       "\n",
       "     SHAPE_AREA     SHAPE_LEN                    Id           Id2  \\\n",
       "0  1.153484e+08  48105.939998  1400000US25017300100  2.501730e+10   \n",
       "1  8.252731e+07  41749.428647  1400000US25017301101  2.501730e+10   \n",
       "\n",
       "                                           Geography  Median_val  Median_v_1  \\\n",
       "0  Census Tract 3001, Middlesex County, Massachus...    286700.0     15865.0   \n",
       "1  Census Tract 3011.01, Middlesex County, Massac...    290800.0     14919.0   \n",
       "\n",
       "                                            geometry  \n",
       "0  POLYGON ((-7989680.091 5267632.891, -7989885.5...  \n",
       "1  POLYGON ((-7989680.091 5267632.891, -7989536.8...  "
      ]
     },
     "execution_count": 5,
     "metadata": {},
     "output_type": "execute_result"
    }
   ],
   "source": [
    "medianhousing.head(2)"
   ]
  },
  {
   "cell_type": "code",
   "execution_count": 7,
   "metadata": {},
   "outputs": [
    {
     "data": {
      "text/plain": [
       "geopandas.geoseries.GeoSeries"
      ]
     },
     "execution_count": 7,
     "metadata": {},
     "output_type": "execute_result"
    }
   ],
   "source": [
    "type(medianhousing.geometry)"
   ]
  },
  {
   "cell_type": "markdown",
   "metadata": {},
   "source": [
    "#### Q: What is the most frequently occurring number of neighbors?"
   ]
  },
  {
   "cell_type": "code",
   "execution_count": 81,
   "metadata": {},
   "outputs": [
    {
     "name": "stdout",
     "output_type": "stream",
     "text": [
      "0    2\n",
      "1    5\n",
      "2    4\n",
      "Name: NBR_NEIGHBORS, dtype: object\n",
      "\n"
     ]
    },
    {
     "data": {
      "text/plain": [
       "Text(0.5, 1.0, 'Nombre de voisin pour chaque région donnée')"
      ]
     },
     "execution_count": 81,
     "metadata": {},
     "output_type": "execute_result"
    },
    {
     "data": {
      "image/png": "[encoded data removed]",
      "text/plain": [
       "<Figure size 864x504 with 1 Axes>"
      ]
     },
     "metadata": {
      "needs_background": "light"
     },
     "output_type": "display_data"
    }
   ],
   "source": [
    "gdf = medianhousing.copy()\n",
    "# add NEIGHBORS column\n",
    "gdf[\"NEIGHBORS\"] = None  \n",
    "gdf[\"NBR_NEIGHBORS\"] = None\n",
    "\n",
    "for index, country in gdf.iterrows():   \n",
    "\n",
    "    neighbors = gdf[~gdf.geometry.disjoint(country.geometry)].NAME.tolist() # Get des communes qui sont NON disjoints\n",
    "    neighbors = [ name for name in neighbors if country.NAME != name ] # # remove own name of the country from the list\n",
    "   \n",
    "    gdf.at[index, \"NEIGHBORS\"] = \", \".join(neighbors)  # add names of neighbors as NEIGHBORS value\n",
    "    gdf.at[index, \"NBR_NEIGHBORS\"] = len(neighbors)  # add len of neighbors as NEIGHBORS value\n",
    "print(gdf.loc[:,\"NBR_NEIGHBORS\"].head(3))\n",
    "\n",
    "print(\"\")\n",
    "plt.figure(figsize=(12,7))\n",
    "ax = sns.barplot(x=gdf.NBR_NEIGHBORS.value_counts().index, y=gdf.NBR_NEIGHBORS.value_counts().values, )\n",
    "\n",
    "#annotate axis = seaborn axis\n",
    "for p in ax.patches:\n",
    "             ax.annotate(\"%.0f\" % p.get_height(), (p.get_x() + p.get_width() / 2., p.get_height()),\n",
    "                 ha='center', va='center', fontsize=11, color='gray', xytext=(0, 20),\n",
    "                 textcoords='offset points')\n",
    "_ = ax.set_ylim(0,80)\n",
    "ax.set_title(\"Nombre de voisin pour chaque région donnée\")"
   ]
  },
  {
   "cell_type": "markdown",
   "metadata": {},
   "source": [
    "**Reponse:** 5 et 6 ont plus de voisins"
   ]
  },
  {
   "cell_type": "markdown",
   "metadata": {},
   "source": [
    "#### Q: What is the smallest number of neighbors? How many tracts have that number of neighbors?\n",
    "**Réponse:** 1 est le plus petit nbre de voisin"
   ]
  },
  {
   "cell_type": "code",
   "execution_count": 78,
   "metadata": {},
   "outputs": [
    {
     "data": {
      "text/plain": [
       "<AxesSubplot:>"
      ]
     },
     "execution_count": 78,
     "metadata": {},
     "output_type": "execute_result"
    },
    {
     "data": {
      "image/png": "[encoded data removed]",
      "text/plain": [
       "<Figure size 936x504 with 1 Axes>"
      ]
     },
     "metadata": {
      "needs_background": "light"
     },
     "output_type": "display_data"
    }
   ],
   "source": [
    "ax = gdf.plot(figsize=(13,7), alpha=0.2,)\n",
    "gdf[gdf['NBR_NEIGHBORS']<=2].plot(figsize=(13,7), column=\"NAME\", edgecolor=\"k\", ax=ax)"
   ]
  },
  {
   "cell_type": "code",
   "execution_count": null,
   "metadata": {},
   "outputs": [],
   "source": []
  }
 ],
 "metadata": {
  "kernelspec": {
   "display_name": "Python 3",
   "language": "python",
   "name": "python3"
  },
  "language_info": {
   "codemirror_mode": {
    "name": "ipython",
    "version": 3
   },
   "file_extension": ".py",
   "mimetype": "text/x-python",
   "name": "python",
   "nbconvert_exporter": "python",
   "pygments_lexer": "ipython3",
   "version": "3.8.1"
  },
  "widgets": {
   "application/vnd.jupyter.widget-state+json": {
    "state": {},
    "version_major": 2,
    "version_minor": 0
   }
  }
 },
 "nbformat": 4,
 "nbformat_minor": 4
}
