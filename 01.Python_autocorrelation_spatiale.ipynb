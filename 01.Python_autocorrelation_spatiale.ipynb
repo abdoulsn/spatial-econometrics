{
 "cells": [
  {
   "cell_type": "markdown",
   "metadata": {},
   "source": [
    "# Autocorrélation spatiale\n",
    "Reproduction avec R l'essentiel d'une analyse menée avec Geoda."
   ]
  },
  {
   "cell_type": "markdown",
   "metadata": {},
   "source": [
    "-/-/- - Author: Abdoulaye DIALLO  \n",
    "-/-/- - École: ENSAI  \n",
    "-/-/- - Cours: Spatial Data  "
   ]
  },
  {
   "cell_type": "markdown",
   "metadata": {},
   "source": [
    "#### Sources et Références\n",
    "#### [Geospatial Data Analysis | SciPy 2018 | Serge Rey](https://www.youtube.com/watch?v=kJXUUO5M4ok)  \n",
    "#### [--](--)\n",
    "#### [--](--)  "
   ]
  },
  {
   "cell_type": "markdown",
   "metadata": {},
   "source": [
    "----------------------------"
   ]
  },
  {
   "cell_type": "markdown",
   "metadata": {},
   "source": [
    "La première loi de la géographie de **Waldo Tober**: `tout est lié à tout le reste, mais les choses proches sont plus liées que les choses lointaine`."
   ]
  },
  {
   "cell_type": "markdown",
   "metadata": {},
   "source": [
    "----------------------------"
   ]
  },
  {
   "cell_type": "code",
   "execution_count": 3,
   "metadata": {},
   "outputs": [],
   "source": [
    "import geopandas as gpd\n",
    "import pandas as pd\n",
    "import matplotlib.pyplot as plt\n",
    "from shapely.geometry import Point"
   ]
  },
  {
   "cell_type": "markdown",
   "metadata": {},
   "source": [
    "## Les donnnées"
   ]
  },
  {
   "cell_type": "markdown",
   "metadata": {},
   "source": [
    "#### chargement des données non spatial"
   ]
  },
  {
   "cell_type": "code",
   "execution_count": 4,
   "metadata": {},
   "outputs": [
    {
     "name": "stdout",
     "output_type": "stream",
     "text": [
      "epsg:3857\n"
     ]
    }
   ],
   "source": [
    "# Chargeons les données non spatial à fusionée avec les données spati\n",
    "medianhousing = gpd.read_file(\"medianhousing/medianhousing.dbf\")\n",
    "print(medianhousing.crs)"
   ]
  },
  {
   "cell_type": "code",
   "execution_count": 7,
   "metadata": {},
   "outputs": [
    {
     "data": {
      "text/html": [
       "<div>\n",
       "<style scoped>\n",
       "    .dataframe tbody tr th:only-of-type {\n",
       "        vertical-align: middle;\n",
       "    }\n",
       "\n",
       "    .dataframe tbody tr th {\n",
       "        vertical-align: top;\n",
       "    }\n",
       "\n",
       "    .dataframe thead th {\n",
       "        text-align: right;\n",
       "    }\n",
       "</style>\n",
       "<table border=\"1\" class=\"dataframe\">\n",
       "  <thead>\n",
       "    <tr style=\"text-align: right;\">\n",
       "      <th></th>\n",
       "      <th>POLY_ID</th>\n",
       "      <th>GEO_ID</th>\n",
       "      <th>STATE</th>\n",
       "      <th>COUNTY</th>\n",
       "      <th>TRACT</th>\n",
       "      <th>NAME</th>\n",
       "      <th>LSAD</th>\n",
       "      <th>SHAPE_AREA</th>\n",
       "      <th>SHAPE_LEN</th>\n",
       "      <th>Id</th>\n",
       "      <th>Id2</th>\n",
       "      <th>Geography</th>\n",
       "      <th>Median_val</th>\n",
       "      <th>Median_v_1</th>\n",
       "      <th>geometry</th>\n",
       "    </tr>\n",
       "  </thead>\n",
       "  <tbody>\n",
       "    <tr>\n",
       "      <th>0</th>\n",
       "      <td>1</td>\n",
       "      <td>1400000US25017300100</td>\n",
       "      <td>25</td>\n",
       "      <td>017</td>\n",
       "      <td>300100</td>\n",
       "      <td>3001</td>\n",
       "      <td>Tract</td>\n",
       "      <td>1.153484e+08</td>\n",
       "      <td>48105.939998</td>\n",
       "      <td>1400000US25017300100</td>\n",
       "      <td>2.501730e+10</td>\n",
       "      <td>Census Tract 3001, Middlesex County, Massachus...</td>\n",
       "      <td>286700.0</td>\n",
       "      <td>15865.0</td>\n",
       "      <td>POLYGON ((-7989680.091 5267632.891, -7989885.5...</td>\n",
       "    </tr>\n",
       "    <tr>\n",
       "      <th>1</th>\n",
       "      <td>2</td>\n",
       "      <td>1400000US25017301101</td>\n",
       "      <td>25</td>\n",
       "      <td>017</td>\n",
       "      <td>301101</td>\n",
       "      <td>3011.01</td>\n",
       "      <td>Tract</td>\n",
       "      <td>8.252731e+07</td>\n",
       "      <td>41749.428647</td>\n",
       "      <td>1400000US25017301101</td>\n",
       "      <td>2.501730e+10</td>\n",
       "      <td>Census Tract 3011.01, Middlesex County, Massac...</td>\n",
       "      <td>290800.0</td>\n",
       "      <td>14919.0</td>\n",
       "      <td>POLYGON ((-7989680.091 5267632.891, -7989536.8...</td>\n",
       "    </tr>\n",
       "  </tbody>\n",
       "</table>\n",
       "</div>"
      ],
      "text/plain": [
       "   POLY_ID                GEO_ID STATE COUNTY   TRACT     NAME   LSAD  \\\n",
       "0        1  1400000US25017300100    25    017  300100     3001  Tract   \n",
       "1        2  1400000US25017301101    25    017  301101  3011.01  Tract   \n",
       "\n",
       "     SHAPE_AREA     SHAPE_LEN                    Id           Id2  \\\n",
       "0  1.153484e+08  48105.939998  1400000US25017300100  2.501730e+10   \n",
       "1  8.252731e+07  41749.428647  1400000US25017301101  2.501730e+10   \n",
       "\n",
       "                                           Geography  Median_val  Median_v_1  \\\n",
       "0  Census Tract 3001, Middlesex County, Massachus...    286700.0     15865.0   \n",
       "1  Census Tract 3011.01, Middlesex County, Massac...    290800.0     14919.0   \n",
       "\n",
       "                                            geometry  \n",
       "0  POLYGON ((-7989680.091 5267632.891, -7989885.5...  \n",
       "1  POLYGON ((-7989680.091 5267632.891, -7989536.8...  "
      ]
     },
     "execution_count": 7,
     "metadata": {},
     "output_type": "execute_result"
    }
   ],
   "source": [
    "medianhousing.head(2)"
   ]
  },
  {
   "cell_type": "code",
   "execution_count": 10,
   "metadata": {},
   "outputs": [],
   "source": [
    "import pysal\n",
    "import numpy as np\n",
    "np.random.seed(12345)"
   ]
  },
  {
   "cell_type": "code",
   "execution_count": null,
   "metadata": {},
   "outputs": [],
   "source": []
  }
 ],
 "metadata": {
  "kernelspec": {
   "display_name": "Python 3",
   "language": "python",
   "name": "python3"
  },
  "language_info": {
   "codemirror_mode": {
    "name": "ipython",
    "version": 3
   },
   "file_extension": ".py",
   "mimetype": "text/x-python",
   "name": "python",
   "nbconvert_exporter": "python",
   "pygments_lexer": "ipython3",
   "version": "3.8.1"
  },
  "widgets": {
   "application/vnd.jupyter.widget-state+json": {
    "state": {},
    "version_major": 2,
    "version_minor": 0
   }
  }
 },
 "nbformat": 4,
 "nbformat_minor": 4
}
